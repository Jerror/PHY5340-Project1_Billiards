{
 "cells": [
  {
   "cell_type": "code",
   "execution_count": 1,
   "metadata": {
    "collapsed": true
   },
   "outputs": [],
   "source": [
    "import numpy as np\n",
    "import matplotlib.pyplot as plt\n",
    "from matplotlib.widgets import Slider\n",
    "from boundary import *\n",
    "import rootfinding as rf\n",
    "custom_rf = {'rootfind_open': rf.newton, 'rootfind_bracketing': rf.bisect}"
   ]
  },
  {
   "cell_type": "code",
   "execution_count": 2,
   "metadata": {
    "collapsed": true
   },
   "outputs": [],
   "source": [
    "def billiard_propagator_gen(r, v, bdy):\n",
    "    s = bdy.linear_intersect_cart(r, v)\n",
    "    if np.any(np.sign(bdy.coords_cart(s) - r) != np.sign(v)):\n",
    "        # Then we found the intercept in the wrong direction! Try again.\n",
    "        s = bdy.linear_intersect_param(s, v)  # Excludes passed root s\n",
    "    yield s\n",
    "    while True:\n",
    "        tangent = bdy.tangent_cart(s)\n",
    "        v = 2*np.dot(v, tangent) * tangent/np.linalg.norm(tangent)**2 - v\n",
    "        s = bdy.linear_intersect_param(s, v)\n",
    "        yield s\n",
    "\n",
    "\n",
    "def init_state(r, v, boundary):\n",
    "    state = {'collisions': [],\n",
    "             'trajectory': np.c_[r],\n",
    "             'propagator': billiard_propagator_gen(r, v, bdy)}\n",
    "    return state\n",
    "\n",
    "\n",
    "def propagate(state, bounces):\n",
    "    new_collisions = [state['propagator'].next() for _ in xrange(bounces)]\n",
    "    state['collisions'].append(new_collisions)\n",
    "    state['trajectory'] = np.c_[state['trajectory'],\n",
    "                                bdy.coords_cart(np.array(new_collisions))]"
   ]
  },
  {
   "cell_type": "code",
   "execution_count": 4,
   "metadata": {
    "collapsed": false
   },
   "outputs": [
    {
     "name": "stdout",
     "output_type": "stream",
     "text": [
      "Using matplotlib backend: TkAgg\n"
     ]
    }
   ],
   "source": [
    "%matplotlib auto\n",
    "r0 = np.array([0.6, 0.2])\n",
    "theta = 0.1\n",
    "v0 = np.array([np.cos(theta), np.sin(theta)])\n",
    "# bdy = UnitCircleBoundary(**custom_rf)\n",
    "bdy = BeanBoundary(0.16, 0.1, 2.0, 1.0, **custom_rf)\n",
    "\n",
    "default_bounces = 10\n",
    "max_bounces = 500\n",
    "default_deltay = 0\n",
    "max_deltay = 1000\n",
    "\n",
    "bdyline = bdy.coords_cart(np.arange(0, 2*np.pi, 0.01))\n",
    "plt.plot(bdyline[0], bdyline[1])\n",
    "# Plot a line object \"l\"; I'll send data to it later \n",
    "traj_line, = plt.plot([0, 0], [0, 0], label='Trajectory')  \n",
    "plt.axis('equal')\n",
    "\n",
    "# Make Sliders (with their own axis artists) for interactive control.\n",
    "axcolor = 'lightgoldenrodyellow'\n",
    "axbounces = plt.axes([0.2, 0.03, 0.65, 0.02], facecolor=axcolor)\n",
    "sbounces = Slider(axbounces, 'Number of bounces',\n",
    "                  1, max_bounces, valinit=default_bounces)\n",
    "axdeltay = plt.axes([0.2, 0.005, 0.65, 0.02], facecolor=axcolor)\n",
    "sdeltay = Slider(axdeltay, r'$\\Delta y_0$ / $(y_0 * 10^{-8})$',\n",
    "                 -max_deltay, max_deltay, valinit=default_deltay)\n",
    "\n",
    "\n",
    "def propagate_plotline(state, n, plotline):\n",
    "    missing = n+1 - state['trajectory'].shape[1]\n",
    "    if missing <= 0:\n",
    "        plotline.set_xdata(state['trajectory'][0, 0:n+1])\n",
    "        plotline.set_ydata(state['trajectory'][1, 0:n+1])\n",
    "    else:\n",
    "        propagate(state, missing)    \n",
    "        plotline.set_xdata(state['trajectory'][0])\n",
    "        plotline.set_ydata(state['trajectory'][1])\n",
    "    plt.draw()\n",
    "\n",
    "\n",
    "def reset_plotline(r, v, boundary, n, plotline):\n",
    "    state = init_state(r, v, boundary)\n",
    "    propagate_plotline(state, n, plotline)\n",
    "    return state\n",
    "\n",
    "# Initialize plotline data for default Slider settings.\n",
    "state = reset_plotline(r0 * np.array([1, 1 + sdeltay.val*1e-8]), v0, bdy,\n",
    "                       int(sbounces.val), traj_line)\n",
    "# Configure our Sliders to update the plotlines.\n",
    "# The Sliders will pass their current value to the on_changed event callback\n",
    "sbounces.on_changed(lambda val: propagate_plotline(state, int(val), traj_line))\n",
    "sdeltay.on_changed(lambda val: reset_plotline(r0 * np.array([1, 1 + val*1e-8]),\n",
    "                                              v0, bdy, int(sbounces.val),\n",
    "                                              traj_line))\n",
    "\n",
    "plt.show()"
   ]
  },
  {
   "cell_type": "code",
   "execution_count": null,
   "metadata": {
    "collapsed": true
   },
   "outputs": [],
   "source": []
  }
 ],
 "metadata": {
  "kernelspec": {
   "display_name": "Python [conda root]",
   "language": "python",
   "name": "conda-root-py"
  },
  "language_info": {
   "codemirror_mode": {
    "name": "ipython",
    "version": 2
   },
   "file_extension": ".py",
   "mimetype": "text/x-python",
   "name": "python",
   "nbconvert_exporter": "python",
   "pygments_lexer": "ipython2",
   "version": "2.7.12"
  }
 },
 "nbformat": 4,
 "nbformat_minor": 2
}
