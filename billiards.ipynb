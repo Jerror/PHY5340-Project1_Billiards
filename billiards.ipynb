{
 "cells": [
  {
   "cell_type": "code",
   "execution_count": 1,
   "metadata": {
    "collapsed": false
   },
   "outputs": [],
   "source": [
    "import numpy as np\n",
    "import matplotlib.pyplot as plt\n",
    "from matplotlib.widgets import Slider\n",
    "from boundary import *\n",
    "import rootfinding as rf\n",
    "custom_rf = {'tol': 2E-12, 'maxiter': 50,\n",
    "             'rootfind_open': rf.newton, 'rootfind_bracketing': rf.bisect}"
   ]
  },
  {
   "cell_type": "code",
   "execution_count": 2,
   "metadata": {
    "collapsed": false
   },
   "outputs": [],
   "source": [
    "def billiard_propagator_gen(r, v, bdy):\n",
    "    s = bdy.linear_intersect_cart(r, v)\n",
    "    if np.any(np.sign(bdy.coords_cart(s) - r) != np.sign(v)):\n",
    "        # Then we found the intercept in the wrong direction! Try again.\n",
    "        try:\n",
    "            s = bdy.linear_intersect_param(s, v)  # Excludes passed root s\n",
    "        except RuntimeError as e:\n",
    "            print e\n",
    "    while True:\n",
    "        tangent = bdy.tangent_cart(s)\n",
    "        v_tan = np.dot(v, tangent)\n",
    "        yield s, v_tan\n",
    "        v = 2 * v_tan * tangent - v\n",
    "        try:\n",
    "            s = bdy.linear_intersect_param(s, v)\n",
    "        except RuntimeError as e:\n",
    "            print e\n",
    "\n",
    "def init_state(r, v, boundary):\n",
    "    state = {'s_list': [],\n",
    "             'v_tan_list': [],\n",
    "             'trajectory': np.c_[r],\n",
    "             'propagator': billiard_propagator_gen(r, v, boundary)}\n",
    "    return state\n",
    "\n",
    "\n",
    "def propagate(state, bounces):\n",
    "    new_s, new_v_tan = zip(*(state['propagator'].next()\n",
    "                             for _ in xrange(bounces)))\n",
    "    state['s_list'].extend(new_s)\n",
    "    state['v_tan_list'].extend(new_v_tan)\n",
    "    state['trajectory'] = np.c_[state['trajectory'],\n",
    "                                bdy.coords_cart(np.array(new_s))]"
   ]
  },
  {
   "cell_type": "code",
   "execution_count": 3,
   "metadata": {
    "collapsed": false
   },
   "outputs": [
    {
     "name": "stdout",
     "output_type": "stream",
     "text": [
      "Using matplotlib backend: TkAgg\n"
     ]
    },
    {
     "ename": "TypeError",
     "evalue": "can't multiply sequence by non-int of type 'float'",
     "output_type": "error",
     "traceback": [
      "\u001b[0;31m---------------------------------------------------------------------------\u001b[0m",
      "\u001b[0;31mTypeError\u001b[0m                                 Traceback (most recent call last)",
      "\u001b[0;32m<ipython-input-3-6fb2b33eeeed>\u001b[0m in \u001b[0;36m<module>\u001b[0;34m()\u001b[0m\n\u001b[1;32m     53\u001b[0m \u001b[0;31m# Initialize plotline data for default Slider settings.\u001b[0m\u001b[0;34m\u001b[0m\u001b[0;34m\u001b[0m\u001b[0m\n\u001b[1;32m     54\u001b[0m state = reset_plots(r0 * np.array([1, 1 + sdeltay.val*5e-7]), v0, bdy,\n\u001b[0;32m---> 55\u001b[0;31m                     int(sbounces.val), traj_line, poinc_ax)\n\u001b[0m\u001b[1;32m     56\u001b[0m \u001b[0;31m# Configure our Sliders to update the plotlines.\u001b[0m\u001b[0;34m\u001b[0m\u001b[0;34m\u001b[0m\u001b[0m\n\u001b[1;32m     57\u001b[0m \u001b[0;31m# The Sliders will pass their current value to the on_changed event callback\u001b[0m\u001b[0;34m\u001b[0m\u001b[0;34m\u001b[0m\u001b[0m\n",
      "\u001b[0;32m<ipython-input-3-6fb2b33eeeed>\u001b[0m in \u001b[0;36mreset_plots\u001b[0;34m(r, v, boundary, n, traj_line, poinc_ax)\u001b[0m\n\u001b[1;32m     48\u001b[0m \u001b[0;32mdef\u001b[0m \u001b[0mreset_plots\u001b[0m\u001b[0;34m(\u001b[0m\u001b[0mr\u001b[0m\u001b[0;34m,\u001b[0m \u001b[0mv\u001b[0m\u001b[0;34m,\u001b[0m \u001b[0mboundary\u001b[0m\u001b[0;34m,\u001b[0m \u001b[0mn\u001b[0m\u001b[0;34m,\u001b[0m \u001b[0mtraj_line\u001b[0m\u001b[0;34m,\u001b[0m \u001b[0mpoinc_ax\u001b[0m\u001b[0;34m)\u001b[0m\u001b[0;34m:\u001b[0m\u001b[0;34m\u001b[0m\u001b[0m\n\u001b[1;32m     49\u001b[0m     \u001b[0mstate\u001b[0m \u001b[0;34m=\u001b[0m \u001b[0minit_state\u001b[0m\u001b[0;34m(\u001b[0m\u001b[0mr\u001b[0m\u001b[0;34m,\u001b[0m \u001b[0mv\u001b[0m\u001b[0;34m,\u001b[0m \u001b[0mboundary\u001b[0m\u001b[0;34m)\u001b[0m\u001b[0;34m\u001b[0m\u001b[0m\n\u001b[0;32m---> 50\u001b[0;31m     \u001b[0mpropagate_plots\u001b[0m\u001b[0;34m(\u001b[0m\u001b[0mstate\u001b[0m\u001b[0;34m,\u001b[0m \u001b[0mn\u001b[0m\u001b[0;34m,\u001b[0m \u001b[0mtraj_line\u001b[0m\u001b[0;34m,\u001b[0m \u001b[0mpoinc_ax\u001b[0m\u001b[0;34m)\u001b[0m\u001b[0;34m\u001b[0m\u001b[0m\n\u001b[0m\u001b[1;32m     51\u001b[0m     \u001b[0;32mreturn\u001b[0m \u001b[0mstate\u001b[0m\u001b[0;34m\u001b[0m\u001b[0m\n\u001b[1;32m     52\u001b[0m \u001b[0;34m\u001b[0m\u001b[0m\n",
      "\u001b[0;32m<ipython-input-3-6fb2b33eeeed>\u001b[0m in \u001b[0;36mpropagate_plots\u001b[0;34m(state, n, traj_line, poinc_ax)\u001b[0m\n\u001b[1;32m     38\u001b[0m                          state['v_tan_list'][0:n+1])\n\u001b[1;32m     39\u001b[0m     \u001b[0;32melse\u001b[0m\u001b[0;34m:\u001b[0m\u001b[0;34m\u001b[0m\u001b[0m\n\u001b[0;32m---> 40\u001b[0;31m         \u001b[0mpropagate\u001b[0m\u001b[0;34m(\u001b[0m\u001b[0mstate\u001b[0m\u001b[0;34m,\u001b[0m \u001b[0mmissing\u001b[0m\u001b[0;34m)\u001b[0m\u001b[0;34m\u001b[0m\u001b[0m\n\u001b[0m\u001b[1;32m     41\u001b[0m         \u001b[0mtraj_line\u001b[0m\u001b[0;34m.\u001b[0m\u001b[0mset_xdata\u001b[0m\u001b[0;34m(\u001b[0m\u001b[0mstate\u001b[0m\u001b[0;34m[\u001b[0m\u001b[0;34m'trajectory'\u001b[0m\u001b[0;34m]\u001b[0m\u001b[0;34m[\u001b[0m\u001b[0;36m0\u001b[0m\u001b[0;34m]\u001b[0m\u001b[0;34m)\u001b[0m\u001b[0;34m\u001b[0m\u001b[0m\n\u001b[1;32m     42\u001b[0m         \u001b[0mtraj_line\u001b[0m\u001b[0;34m.\u001b[0m\u001b[0mset_ydata\u001b[0m\u001b[0;34m(\u001b[0m\u001b[0mstate\u001b[0m\u001b[0;34m[\u001b[0m\u001b[0;34m'trajectory'\u001b[0m\u001b[0;34m]\u001b[0m\u001b[0;34m[\u001b[0m\u001b[0;36m1\u001b[0m\u001b[0;34m]\u001b[0m\u001b[0;34m)\u001b[0m\u001b[0;34m\u001b[0m\u001b[0m\n",
      "\u001b[0;32m<ipython-input-2-34cc52661ea8>\u001b[0m in \u001b[0;36mpropagate\u001b[0;34m(state, bounces)\u001b[0m\n\u001b[1;32m     27\u001b[0m \u001b[0;32mdef\u001b[0m \u001b[0mpropagate\u001b[0m\u001b[0;34m(\u001b[0m\u001b[0mstate\u001b[0m\u001b[0;34m,\u001b[0m \u001b[0mbounces\u001b[0m\u001b[0;34m)\u001b[0m\u001b[0;34m:\u001b[0m\u001b[0;34m\u001b[0m\u001b[0m\n\u001b[1;32m     28\u001b[0m     new_s, new_v_tan = zip(*(state['propagator'].next()\n\u001b[0;32m---> 29\u001b[0;31m                              for _ in xrange(bounces)))\n\u001b[0m\u001b[1;32m     30\u001b[0m     \u001b[0mstate\u001b[0m\u001b[0;34m[\u001b[0m\u001b[0;34m's_list'\u001b[0m\u001b[0;34m]\u001b[0m\u001b[0;34m.\u001b[0m\u001b[0mextend\u001b[0m\u001b[0;34m(\u001b[0m\u001b[0mnew_s\u001b[0m\u001b[0;34m)\u001b[0m\u001b[0;34m\u001b[0m\u001b[0m\n\u001b[1;32m     31\u001b[0m     \u001b[0mstate\u001b[0m\u001b[0;34m[\u001b[0m\u001b[0;34m'v_tan_list'\u001b[0m\u001b[0;34m]\u001b[0m\u001b[0;34m.\u001b[0m\u001b[0mextend\u001b[0m\u001b[0;34m(\u001b[0m\u001b[0mnew_v_tan\u001b[0m\u001b[0;34m)\u001b[0m\u001b[0;34m\u001b[0m\u001b[0m\n",
      "\u001b[0;32m<ipython-input-2-34cc52661ea8>\u001b[0m in \u001b[0;36m<genexpr>\u001b[0;34m((_,))\u001b[0m\n\u001b[1;32m     27\u001b[0m \u001b[0;32mdef\u001b[0m \u001b[0mpropagate\u001b[0m\u001b[0;34m(\u001b[0m\u001b[0mstate\u001b[0m\u001b[0;34m,\u001b[0m \u001b[0mbounces\u001b[0m\u001b[0;34m)\u001b[0m\u001b[0;34m:\u001b[0m\u001b[0;34m\u001b[0m\u001b[0m\n\u001b[1;32m     28\u001b[0m     new_s, new_v_tan = zip(*(state['propagator'].next()\n\u001b[0;32m---> 29\u001b[0;31m                              for _ in xrange(bounces)))\n\u001b[0m\u001b[1;32m     30\u001b[0m     \u001b[0mstate\u001b[0m\u001b[0;34m[\u001b[0m\u001b[0;34m's_list'\u001b[0m\u001b[0;34m]\u001b[0m\u001b[0;34m.\u001b[0m\u001b[0mextend\u001b[0m\u001b[0;34m(\u001b[0m\u001b[0mnew_s\u001b[0m\u001b[0;34m)\u001b[0m\u001b[0;34m\u001b[0m\u001b[0m\n\u001b[1;32m     31\u001b[0m     \u001b[0mstate\u001b[0m\u001b[0;34m[\u001b[0m\u001b[0;34m'v_tan_list'\u001b[0m\u001b[0;34m]\u001b[0m\u001b[0;34m.\u001b[0m\u001b[0mextend\u001b[0m\u001b[0;34m(\u001b[0m\u001b[0mnew_v_tan\u001b[0m\u001b[0;34m)\u001b[0m\u001b[0;34m\u001b[0m\u001b[0m\n",
      "\u001b[0;32m<ipython-input-2-34cc52661ea8>\u001b[0m in \u001b[0;36mbilliard_propagator_gen\u001b[0;34m(r, v, bdy)\u001b[0m\n\u001b[1;32m      1\u001b[0m \u001b[0;32mdef\u001b[0m \u001b[0mbilliard_propagator_gen\u001b[0m\u001b[0;34m(\u001b[0m\u001b[0mr\u001b[0m\u001b[0;34m,\u001b[0m \u001b[0mv\u001b[0m\u001b[0;34m,\u001b[0m \u001b[0mbdy\u001b[0m\u001b[0;34m)\u001b[0m\u001b[0;34m:\u001b[0m\u001b[0;34m\u001b[0m\u001b[0m\n\u001b[1;32m      2\u001b[0m     \u001b[0ms\u001b[0m \u001b[0;34m=\u001b[0m \u001b[0mbdy\u001b[0m\u001b[0;34m.\u001b[0m\u001b[0mlinear_intersect_cart\u001b[0m\u001b[0;34m(\u001b[0m\u001b[0mr\u001b[0m\u001b[0;34m,\u001b[0m \u001b[0mv\u001b[0m\u001b[0;34m)\u001b[0m\u001b[0;34m\u001b[0m\u001b[0m\n\u001b[0;32m----> 3\u001b[0;31m     \u001b[0;32mif\u001b[0m \u001b[0mnp\u001b[0m\u001b[0;34m.\u001b[0m\u001b[0many\u001b[0m\u001b[0;34m(\u001b[0m\u001b[0mnp\u001b[0m\u001b[0;34m.\u001b[0m\u001b[0msign\u001b[0m\u001b[0;34m(\u001b[0m\u001b[0mbdy\u001b[0m\u001b[0;34m.\u001b[0m\u001b[0mcoords_cart\u001b[0m\u001b[0;34m(\u001b[0m\u001b[0ms\u001b[0m\u001b[0;34m)\u001b[0m \u001b[0;34m-\u001b[0m \u001b[0mr\u001b[0m\u001b[0;34m)\u001b[0m \u001b[0;34m!=\u001b[0m \u001b[0mnp\u001b[0m\u001b[0;34m.\u001b[0m\u001b[0msign\u001b[0m\u001b[0;34m(\u001b[0m\u001b[0mv\u001b[0m\u001b[0;34m)\u001b[0m\u001b[0;34m)\u001b[0m\u001b[0;34m:\u001b[0m\u001b[0;34m\u001b[0m\u001b[0m\n\u001b[0m\u001b[1;32m      4\u001b[0m         \u001b[0;31m# Then we found the intercept in the wrong direction! Try again.\u001b[0m\u001b[0;34m\u001b[0m\u001b[0;34m\u001b[0m\u001b[0m\n\u001b[1;32m      5\u001b[0m         \u001b[0;32mtry\u001b[0m\u001b[0;34m:\u001b[0m\u001b[0;34m\u001b[0m\u001b[0m\n",
      "\u001b[0;32m/home/jer/Projects/PHY5340/Project1/boundary.pyc\u001b[0m in \u001b[0;36mcoords_cart\u001b[0;34m(o, s)\u001b[0m\n\u001b[1;32m    133\u001b[0m \u001b[0;34m\u001b[0m\u001b[0m\n\u001b[1;32m    134\u001b[0m     \u001b[0;32mdef\u001b[0m \u001b[0mcoords_cart\u001b[0m\u001b[0;34m(\u001b[0m\u001b[0mo\u001b[0m\u001b[0;34m,\u001b[0m \u001b[0ms\u001b[0m\u001b[0;34m)\u001b[0m\u001b[0;34m:\u001b[0m\u001b[0;34m\u001b[0m\u001b[0m\n\u001b[0;32m--> 135\u001b[0;31m         \u001b[0;32mreturn\u001b[0m \u001b[0mo\u001b[0m\u001b[0;34m.\u001b[0m\u001b[0mcoord_polar\u001b[0m\u001b[0;34m(\u001b[0m\u001b[0ms\u001b[0m\u001b[0;34m)\u001b[0m \u001b[0;34m*\u001b[0m \u001b[0mnp\u001b[0m\u001b[0;34m.\u001b[0m\u001b[0marray\u001b[0m\u001b[0;34m(\u001b[0m\u001b[0;34m[\u001b[0m\u001b[0mnp\u001b[0m\u001b[0;34m.\u001b[0m\u001b[0mcos\u001b[0m\u001b[0;34m(\u001b[0m\u001b[0ms\u001b[0m\u001b[0;34m)\u001b[0m\u001b[0;34m,\u001b[0m \u001b[0mnp\u001b[0m\u001b[0;34m.\u001b[0m\u001b[0msin\u001b[0m\u001b[0;34m(\u001b[0m\u001b[0ms\u001b[0m\u001b[0;34m)\u001b[0m\u001b[0;34m]\u001b[0m\u001b[0;34m)\u001b[0m\u001b[0;34m\u001b[0m\u001b[0m\n\u001b[0m\u001b[1;32m    136\u001b[0m \u001b[0;34m\u001b[0m\u001b[0m\n\u001b[1;32m    137\u001b[0m     \u001b[0;32mdef\u001b[0m \u001b[0mderivative_polar\u001b[0m\u001b[0;34m(\u001b[0m\u001b[0mo\u001b[0m\u001b[0;34m,\u001b[0m \u001b[0ms\u001b[0m\u001b[0;34m)\u001b[0m\u001b[0;34m:\u001b[0m\u001b[0;34m\u001b[0m\u001b[0m\n",
      "\u001b[0;32m/home/jer/Projects/PHY5340/Project1/boundary.pyc\u001b[0m in \u001b[0;36mcoord_polar\u001b[0;34m(o, s)\u001b[0m\n\u001b[1;32m    130\u001b[0m \u001b[0;34m\u001b[0m\u001b[0m\n\u001b[1;32m    131\u001b[0m     \u001b[0;32mdef\u001b[0m \u001b[0mcoord_polar\u001b[0m\u001b[0;34m(\u001b[0m\u001b[0mo\u001b[0m\u001b[0;34m,\u001b[0m \u001b[0ms\u001b[0m\u001b[0;34m)\u001b[0m\u001b[0;34m:\u001b[0m\u001b[0;34m\u001b[0m\u001b[0m\n\u001b[0;32m--> 132\u001b[0;31m         \u001b[0;32mreturn\u001b[0m \u001b[0;36m1\u001b[0m \u001b[0;34m+\u001b[0m \u001b[0mo\u001b[0m\u001b[0;34m.\u001b[0m\u001b[0ma\u001b[0m \u001b[0;34m*\u001b[0m \u001b[0mnp\u001b[0m\u001b[0;34m.\u001b[0m\u001b[0mcos\u001b[0m\u001b[0;34m(\u001b[0m\u001b[0mo\u001b[0m\u001b[0;34m.\u001b[0m\u001b[0mc\u001b[0m \u001b[0;34m*\u001b[0m \u001b[0ms\u001b[0m\u001b[0;34m)\u001b[0m \u001b[0;34m+\u001b[0m \u001b[0mo\u001b[0m\u001b[0;34m.\u001b[0m\u001b[0mb\u001b[0m \u001b[0;34m*\u001b[0m \u001b[0mnp\u001b[0m\u001b[0;34m.\u001b[0m\u001b[0msin\u001b[0m\u001b[0;34m(\u001b[0m\u001b[0mo\u001b[0m\u001b[0;34m.\u001b[0m\u001b[0md\u001b[0m \u001b[0;34m*\u001b[0m \u001b[0ms\u001b[0m\u001b[0;34m)\u001b[0m\u001b[0;34m\u001b[0m\u001b[0m\n\u001b[0m\u001b[1;32m    133\u001b[0m \u001b[0;34m\u001b[0m\u001b[0m\n\u001b[1;32m    134\u001b[0m     \u001b[0;32mdef\u001b[0m \u001b[0mcoords_cart\u001b[0m\u001b[0;34m(\u001b[0m\u001b[0mo\u001b[0m\u001b[0;34m,\u001b[0m \u001b[0ms\u001b[0m\u001b[0;34m)\u001b[0m\u001b[0;34m:\u001b[0m\u001b[0;34m\u001b[0m\u001b[0m\n",
      "\u001b[0;31mTypeError\u001b[0m: can't multiply sequence by non-int of type 'float'"
     ]
    }
   ],
   "source": [
    "%matplotlib auto\n",
    "r0 = np.array([0.6, 0.2])\n",
    "theta = 0.1\n",
    "v0 = np.array([np.cos(theta), np.sin(theta)])\n",
    "#bdy = UnitCircleBoundary(**custom_rf)\n",
    "bdy = BeanBoundary(0.16, 0.1, 2.0, 1.0, **custom_rf)\n",
    "\n",
    "default_bounces = 20\n",
    "max_bounces = 500\n",
    "default_deltay = 0\n",
    "max_deltay = 10\n",
    "\n",
    "fig, axlist = plt.subplots(1, 2)\n",
    "bdyline = bdy.coords_cart(np.arange(0, 2*np.pi, 0.01))\n",
    "axlist[0].plot(bdyline[0], bdyline[1])\n",
    "# Plot trajectory line object; I'll send data to it later \n",
    "traj_line, = axlist[0].plot([0, 0], [0, 0], 'o-', label='Trajectory')\n",
    "poinc_ax = axlist[1]\n",
    "plt.axis('equal')\n",
    "\n",
    "# Make Sliders (with their own axis artists) for interactive control.\n",
    "axcolor = 'lightgoldenrodyellow'\n",
    "axbounces = plt.axes([0.2, 0.03, 0.65, 0.02])#, facecolor=axcolor)\n",
    "sbounces = Slider(axbounces, 'Number of bounces',\n",
    "                  1, max_bounces, valinit=default_bounces)\n",
    "axdeltay = plt.axes([0.2, 0.005, 0.65, 0.02])#, facecolor=axcolor)\n",
    "sdeltay = Slider(axdeltay, r'$\\Delta y_0$ / $(y_0 * 10^{-8})$',\n",
    "                 -max_deltay, max_deltay, valinit=default_deltay)\n",
    "\n",
    "\n",
    "def propagate_plots(state, n, traj_line, poinc_ax):\n",
    "    missing = n+1 - state['trajectory'].shape[1]\n",
    "    poinc_ax.clear()\n",
    "    if missing <= 0:\n",
    "        traj_line.set_xdata(state['trajectory'][0, 0:n+1])\n",
    "        traj_line.set_ydata(state['trajectory'][1, 0:n+1])\n",
    "        poinc_ax.scatter(state['s_list'][0:n+1],\n",
    "                         state['v_tan_list'][0:n+1])\n",
    "    else:\n",
    "        propagate(state, missing)    \n",
    "        traj_line.set_xdata(state['trajectory'][0])\n",
    "        traj_line.set_ydata(state['trajectory'][1])\n",
    "        poinc_ax.scatter(state['s_list'],\n",
    "                         state['v_tan_list'])\n",
    "    fig.canvas.draw()\n",
    "\n",
    "\n",
    "def reset_plots(r, v, boundary, n, traj_line, poinc_ax):\n",
    "    state = init_state(r, v, boundary)\n",
    "    propagate_plots(state, n, traj_line, poinc_ax)\n",
    "    return state\n",
    "\n",
    "# Initialize plotline data for default Slider settings.\n",
    "state = reset_plots(r0 * np.array([1, 1 + sdeltay.val*5e-7]), v0, bdy,\n",
    "                    int(sbounces.val), traj_line, poinc_ax)\n",
    "# Configure our Sliders to update the plotlines.\n",
    "# The Sliders will pass their current value to the on_changed event callback\n",
    "sbounces.on_changed(lambda val: propagate_plots(state, int(val),\n",
    "                                                traj_line, poinc_ax))\n",
    "sdeltay.on_changed(lambda val: reset_plots(r0 * np.array([1, 1 + val*1e-8]),\n",
    "                                           v0, bdy, int(sbounces.val),\n",
    "                                           traj_line, poinc_ax))\n",
    "\n",
    "# plt.show()"
   ]
  },
  {
   "cell_type": "code",
   "execution_count": null,
   "metadata": {
    "collapsed": true
   },
   "outputs": [],
   "source": [
    "def angular_distance(s1, s2):\n",
    "    \"\"\"Return the signed distance in range [-pi, pi] from s1 to s2,\n",
    "        where s1 and s2 are angles between 0 and 2pi.\n",
    "    \"\"\"\n",
    "    d = s2 - s1\n",
    "    # want elementwise: d if |d| <= pi else sgn(d)*(|d| - 2pi) \n",
    "    absd = np.abs(d)\n",
    "    sign = np.sign(d)\n",
    "    boo = absd > np.pi  # boolean array for indexing\n",
    "    d[boo] = -sign[boo]*(absd[boo] - 2*np.pi)  \n",
    "    return d"
   ]
  },
  {
   "cell_type": "code",
   "execution_count": null,
   "metadata": {
    "collapsed": false
   },
   "outputs": [],
   "source": [
    "def angular_distance(s1, s2):\n",
    "    \"\"\"Return the signed distance in range [-pi, pi] from s1 to s2,\n",
    "        where s1 and s2 are angles between 0 and 2pi.\n",
    "    \"\"\"\n",
    "    d = s2 - s1\n",
    "    # want elementwise: d if |d| <= pi else sgn(d)*(|d| - 2pi) \n",
    "    absd = np.abs(d)\n",
    "    sign = np.sign(d)\n",
    "    boo = absd > np.pi  # boolean array for indexing\n",
    "    d[boo] = -sign[boo]*(absd[boo] - 2*np.pi)  \n",
    "    return d\n",
    "\n",
    "bounces = 50\n",
    "\n",
    "def get_pert_deltas(dys, ref_bdy, s_arr_0, r0, v0):\n",
    "    deltas_list = []\n",
    "    for dy in dys:\n",
    "        state = init_state(r0 * np.array([1, 1 + dy]), v0, ref_bdy)\n",
    "        propagate(state, bounces)\n",
    "        deltas_list += [angular_distance(np.array(state['s_list']), s_arr_0)]\n",
    "    return deltas_list\n",
    "\n",
    "def get_tol_deltas(tols, ref_bdy, s_arr_0, r0, v0):\n",
    "    deltas_list = []\n",
    "    ref_tol = ref_bdy.tol\n",
    "    for tol in tols:\n",
    "        ref_bdy.tol = tol\n",
    "        state = init_state(r0, v0, ref_bdy)\n",
    "        propagate(state, bounces)\n",
    "        deltas_list += [angular_distance(np.array(state['s_list']), s_arr_0)]\n",
    "    ref_bdy.tol = ref_tol\n",
    "    return deltas_list\n",
    "\n",
    "def plot_divergence(ref_bdy, r0, v0, lines):\n",
    "    reference = init_state(r0, v0, ref_bdy)\n",
    "    propagate(reference, bounces)\n",
    "    s_arr_0 = np.array(reference['s_list'])\n",
    "\n",
    "    dys = np.linspace(0, 5e-9, num=lines+1)[1::]\n",
    "    deltas_pert_list = get_pert_deltas(dys, ref_bdy, s_arr_0, r0, v0)\n",
    "\n",
    "    tols = r0[1]*dys\n",
    "    deltas_tol_list = get_tol_deltas(tols, ref_bdy, s_arr_0, r0, v0)\n",
    "\n",
    "    fig, axlist = plt.subplots(2, 1, sharex=True)\n",
    "    for deltas_pert, dy, deltas_tol, tol in zip(deltas_pert_list, dys,\n",
    "                                                deltas_tol_list, tols):\n",
    "        axlist[0].plot(deltas_pert, label='$\\Delta y_0$ = {0:.2e}'.format(r0[1] * dy))\n",
    "        axlist[1].plot(deltas_tol, label='Tolerance = {0:.2e}'.format(tol))\n",
    "    axlist[0].legend(loc='lower left')\n",
    "    axlist[1].legend(loc='lower left')"
   ]
  },
  {
   "cell_type": "code",
   "execution_count": null,
   "metadata": {
    "collapsed": false
   },
   "outputs": [],
   "source": [
    "# r0 = np.array([0.6, 0.2])\n",
    "# theta = 0.1\n",
    "r0 = np.array([0.1, 0])\n",
    "theta = 1.5\n",
    "v0 = np.array([np.cos(theta), np.sin(theta)])\n",
    "custom_rf['param_rootfind': 'open']\n",
    "for ref_bdy in (UnitCircleBoundary(**custom_rf),\n",
    "                BeanBoundary(0.16, 0.1, 2.0, 1.0, **custom_rf)):\n",
    "    plot_divergence(ref_bdy, r0, v0, 10)"
   ]
  },
  {
   "cell_type": "code",
   "execution_count": null,
   "metadata": {
    "collapsed": true
   },
   "outputs": [],
   "source": []
  }
 ],
 "metadata": {
  "anaconda-cloud": {},
  "kernelspec": {
   "display_name": "Python [conda root]",
   "language": "python",
   "name": "conda-root-py"
  },
  "language_info": {
   "codemirror_mode": {
    "name": "ipython",
    "version": 2
   },
   "file_extension": ".py",
   "mimetype": "text/x-python",
   "name": "python",
   "nbconvert_exporter": "python",
   "pygments_lexer": "ipython2",
   "version": "2.7.12"
  }
 },
 "nbformat": 4,
 "nbformat_minor": 2
}
