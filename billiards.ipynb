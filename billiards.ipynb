{
 "cells": [
  {
   "cell_type": "code",
   "execution_count": 1,
   "metadata": {
    "collapsed": true
   },
   "outputs": [],
   "source": [
    "import numpy as np\n",
    "import matplotlib.pyplot as plt\n",
    "from matplotlib.widgets import Slider\n",
    "from boundary import *\n",
    "import rootfinding as rf\n",
    "custom_rf = {'rootfind_open': rf.newton, 'rootfind_bracketing': rf.bisect}"
   ]
  },
  {
   "cell_type": "code",
   "execution_count": 2,
   "metadata": {
    "collapsed": false
   },
   "outputs": [],
   "source": [
    "def billiard_propagator_gen(r, v, bdy):\n",
    "    s = bdy.linear_intersect_cart(r, v)\n",
    "    if np.any(np.sign(bdy.coords_cart(s) - r) != np.sign(v)):\n",
    "        # Then we found the intercept in the wrong direction! Try again.\n",
    "        s = bdy.linear_intersect_param(s, v)  # Excludes passed root s\n",
    "    while True:\n",
    "        tangent = bdy.tangent_cart(s)\n",
    "        v_tan = np.dot(v, tangent)\n",
    "        yield s, v_tan\n",
    "        v = 2 * v_tan * tangent - v\n",
    "        s = bdy.linear_intersect_param(s, v)\n",
    "\n",
    "\n",
    "def init_state(r, v, boundary):\n",
    "    state = {'s_list': [],\n",
    "             'v_tan_list': [],\n",
    "             'trajectory': np.c_[r],\n",
    "             'propagator': billiard_propagator_gen(r, v, bdy)}\n",
    "    return state\n",
    "\n",
    "\n",
    "def propagate(state, bounces):\n",
    "    new_s, new_v_tan = zip(*(state['propagator'].next()\n",
    "                             for _ in xrange(bounces)))\n",
    "    state['s_list'].extend(new_s)\n",
    "    state['v_tan_list'].extend(new_v_tan)\n",
    "    state['trajectory'] = np.c_[state['trajectory'],\n",
    "                                bdy.coords_cart(np.array(new_s))]"
   ]
  },
  {
   "cell_type": "code",
   "execution_count": 12,
   "metadata": {
    "collapsed": false
   },
   "outputs": [
    {
     "name": "stdout",
     "output_type": "stream",
     "text": [
      "Using matplotlib backend: Qt5Agg\n"
     ]
    },
    {
     "data": {
      "text/plain": [
       "0"
      ]
     },
     "execution_count": 12,
     "metadata": {},
     "output_type": "execute_result"
    }
   ],
   "source": [
    "%matplotlib auto\n",
    "r0 = np.array([0.6, 0.2])\n",
    "theta = 0.1\n",
    "v0 = np.array([np.cos(theta), np.sin(theta)])\n",
    "#bdy = UnitCircleBoundary(**custom_rf)\n",
    "bdy = BeanBoundary(0.16, 0.1, 2.0, 1.0)#**custom_rf)\n",
    "\n",
    "default_bounces = 50\n",
    "max_bounces = 500\n",
    "default_deltay = 0\n",
    "max_deltay = 1000\n",
    "\n",
    "fig, axlist = plt.subplots(1, 2)\n",
    "bdyline = bdy.coords_cart(np.arange(0, 2*np.pi, 0.01))\n",
    "axlist[0].plot(bdyline[0], bdyline[1])\n",
    "# Plot trajectory line object; I'll send data to it later \n",
    "traj_line, = axlist[0].plot([0, 0], [0, 0], label='Trajectory')\n",
    "poinc_ax = axlist[1]\n",
    "plt.axis('equal')\n",
    "\n",
    "# Make Sliders (with their own axis artists) for interactive control.\n",
    "axcolor = 'lightgoldenrodyellow'\n",
    "axbounces = plt.axes([0.2, 0.03, 0.65, 0.02])#, facecolor=axcolor)\n",
    "sbounces = Slider(axbounces, 'Number of bounces',\n",
    "                  1, max_bounces, valinit=default_bounces)\n",
    "axdeltay = plt.axes([0.2, 0.005, 0.65, 0.02])#, facecolor=axcolor)\n",
    "sdeltay = Slider(axdeltay, r'$\\Delta y_0$ / $(y_0 * 10^{-8})$',\n",
    "                 -max_deltay, max_deltay, valinit=default_deltay)\n",
    "\n",
    "\n",
    "def propagate_plots(state, n, traj_line, poinc_ax):\n",
    "    missing = n+1 - state['trajectory'].shape[1]\n",
    "    poinc_ax.clear()\n",
    "    if missing <= 0:\n",
    "        traj_line.set_xdata(state['trajectory'][0, 0:n+1])\n",
    "        traj_line.set_ydata(state['trajectory'][1, 0:n+1])\n",
    "        poinc_ax.scatter(state['s_list'][0:n+1],\n",
    "                         state['v_tan_list'][0:n+1])\n",
    "    else:\n",
    "        propagate(state, missing)    \n",
    "        traj_line.set_xdata(state['trajectory'][0])\n",
    "        traj_line.set_ydata(state['trajectory'][1])\n",
    "        poinc_ax.scatter(state['s_list'],\n",
    "                         state['v_tan_list'])\n",
    "    fig.canvas.draw()\n",
    "\n",
    "\n",
    "def reset_plots(r, v, boundary, n, traj_line, poinc_ax):\n",
    "    state = init_state(r, v, boundary)\n",
    "    propagate_plots(state, n, traj_line, poinc_ax)\n",
    "    return state\n",
    "\n",
    "# Initialize plotline data for default Slider settings.\n",
    "state = reset_plots(r0 * np.array([1, 1 + sdeltay.val*1e-8]), v0, bdy,\n",
    "                    int(sbounces.val), traj_line, poinc_ax)\n",
    "# Configure our Sliders to update the plotlines.\n",
    "# The Sliders will pass their current value to the on_changed event callback\n",
    "sbounces.on_changed(lambda val: propagate_plots(state, int(val),\n",
    "                                                traj_line, poinc_ax))\n",
    "sdeltay.on_changed(lambda val: reset_plots(r0 * np.array([1, 1 + val*1e-8]),\n",
    "                                           v0, bdy, int(sbounces.val),\n",
    "                                           traj_line, poinc_ax))\n",
    "\n",
    "# plt.show()"
   ]
  },
  {
   "cell_type": "markdown",
   "metadata": {
    "collapsed": true
   },
   "source": [
    "fig, ax = plt.subplots(1,1)\n",
    "print len(state['s_list'])\n",
    "ax.scatter(state['s_list'], state['v_tan_list'])\n",
    "plt.show()"
   ]
  },
  {
   "cell_type": "code",
   "execution_count": null,
   "metadata": {
    "collapsed": true
   },
   "outputs": [],
   "source": []
  }
 ],
 "metadata": {
  "anaconda-cloud": {},
  "kernelspec": {
   "display_name": "Python [conda root]",
   "language": "python",
   "name": "conda-root-py"
  },
  "language_info": {
   "codemirror_mode": {
    "name": "ipython",
    "version": 2
   },
   "file_extension": ".py",
   "mimetype": "text/x-python",
   "name": "python",
   "nbconvert_exporter": "python",
   "pygments_lexer": "ipython2",
   "version": "2.7.13"
  }
 },
 "nbformat": 4,
 "nbformat_minor": 2
}
