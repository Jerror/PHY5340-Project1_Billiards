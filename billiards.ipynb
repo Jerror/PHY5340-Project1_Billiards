{
 "cells": [
  {
   "cell_type": "code",
   "execution_count": 1,
   "metadata": {
    "collapsed": false
   },
   "outputs": [],
   "source": [
    "import numpy as np\n",
    "import matplotlib.pyplot as plt\n",
    "from matplotlib.widgets import Slider\n",
    "from boundary import *\n",
    "import rootfinding as rf\n",
    "custom_rf = {'tol': 2E-12, 'maxiter': 50,\n",
    "             'rootfind_open': rf.newton, 'rootfind_bracketing': rf.bisect}"
   ]
  },
  {
   "cell_type": "code",
   "execution_count": 2,
   "metadata": {
    "collapsed": false
   },
   "outputs": [],
   "source": [
    "def billiard_propagator_gen(r, v, bdy):\n",
    "    s = bdy.linear_intersect_cart(r, v)\n",
    "    if np.any(np.sign(bdy.coords_cart(s) - r) != np.sign(v)):\n",
    "        # Then we found the intercept in the wrong direction! Try again.\n",
    "        try:\n",
    "            s = bdy.linear_intersect_param(s, v)  # Excludes passed root s\n",
    "        except RuntimeError as e:\n",
    "            print e\n",
    "    while True:\n",
    "        tangent = bdy.tangent_cart(s)\n",
    "        v_tan = np.dot(v, tangent)\n",
    "        yield s, v_tan\n",
    "        v = 2 * v_tan * tangent - v\n",
    "        try:\n",
    "            s = bdy.linear_intersect_param(s, v)\n",
    "        except RuntimeError as e:\n",
    "            print e\n",
    "\n",
    "def init_state(r, v, boundary):\n",
    "    state = {'s_list': [],\n",
    "             'v_tan_list': [],\n",
    "             'trajectory': np.c_[r],\n",
    "             'propagator': billiard_propagator_gen(r, v, boundary)}\n",
    "    return state\n",
    "\n",
    "\n",
    "def propagate(state, bounces):\n",
    "    new_s, new_v_tan = zip(*(state['propagator'].next()\n",
    "                             for _ in xrange(bounces)))\n",
    "    state['s_list'].extend(new_s)\n",
    "    state['v_tan_list'].extend(new_v_tan)\n",
    "    state['trajectory'] = np.c_[state['trajectory'],\n",
    "                                bdy.coords_cart(np.array(new_s))]"
   ]
  },
  {
   "cell_type": "code",
   "execution_count": 18,
   "metadata": {
    "collapsed": false
   },
   "outputs": [
    {
     "name": "stdout",
     "output_type": "stream",
     "text": [
      "Using matplotlib backend: TkAgg\n"
     ]
    },
    {
     "data": {
      "text/plain": [
       "(-1, 1)"
      ]
     },
     "execution_count": 18,
     "metadata": {},
     "output_type": "execute_result"
    }
   ],
   "source": [
    "%matplotlib auto\n",
    "r0 = np.array([0.6, 0.2])\n",
    "theta = 0.1\n",
    "# r0 = np.array([0.1, 0])\n",
    "# theta = 1.5\n",
    "v0 = np.array([np.cos(theta), np.sin(theta)])\n",
    "custom_rf['param_rootfind'] = 'bracketing'\n",
    "# bdy = UnitCircleBoundary(**custom_rf)\n",
    "bdy = BeanBoundary(0.16, 0.1, 2.0, 1.0, **custom_rf)\n",
    "\n",
    "default_bounces = 5000\n",
    "max_bounces = 5000\n",
    "default_deltay = 0\n",
    "max_deltay = 10\n",
    "\n",
    "fig, axlist = plt.subplots(1, 2, figsize=(15,6))\n",
    "bdyline = bdy.coords_cart(np.arange(0, 2*np.pi, 0.01))\n",
    "axlist[0].plot(bdyline[0], bdyline[1])\n",
    "# Plot trajectory line object; I'll send data to it later \n",
    "traj_line, = axlist[0].plot([0, 0], [0, 0], 'o-', label='Trajectory')\n",
    "# axlist[0].axis('equal')\n",
    "# axlist[0].set_ylim([-1, 1])\n",
    "poinc_ax = axlist[1]\n",
    "\n",
    "\n",
    "def propagate_plots(state, n, traj_line, poinc_ax):\n",
    "    missing = n+1 - state['trajectory'].shape[1]\n",
    "    poinc_ax.clear()\n",
    "    if missing <= 0:\n",
    "        traj_line.set_xdata(state['trajectory'][0, 0:n+1])\n",
    "        traj_line.set_ydata(state['trajectory'][1, 0:n+1])\n",
    "        sct = poinc_ax.scatter(state['s_list'][0:n+1],\n",
    "                               state['v_tan_list'][0:n+1])\n",
    "    else:\n",
    "        propagate(state, missing)    \n",
    "        traj_line.set_xdata(state['trajectory'][0])\n",
    "        traj_line.set_ydata(state['trajectory'][1])\n",
    "        sct = poinc_ax.scatter(state['s_list'],\n",
    "                               state['v_tan_list'])\n",
    "    poinc_ax.set_ylim([-1, 1])\n",
    "    poinc_ax.set_xlim([0, 2*np.pi])\n",
    "    fig.canvas.draw()\n",
    "\n",
    "\n",
    "def reset_plots(r, v, boundary, n, traj_line, poinc_ax):\n",
    "    state = init_state(r, v, boundary)\n",
    "    propagate_plots(state, n, traj_line, poinc_ax)\n",
    "    return state\n",
    "\n",
    "# Initialize plotline data for default settings.\n",
    "state = reset_plots(r0 * np.array([1, 1 + default_deltay*5e-7]), v0, bdy,\n",
    "                    default_bounces, traj_line, poinc_ax)\n",
    "\n",
    "# Make Sliders (with their own axis artists) for interactive control.\n",
    "axcolor = 'lightgoldenrodyellow'\n",
    "axbounces = plt.axes([0.2, 0.03, 0.65, 0.02])#, facecolor=axcolor)\n",
    "sbounces = Slider(axbounces, 'Number of bounces',\n",
    "                  1, max_bounces, valinit=default_bounces)\n",
    "axdeltay = plt.axes([0.2, 0.005, 0.65, 0.02])#, facecolor=axcolor)\n",
    "sdeltay = Slider(axdeltay, r'$\\Delta y_0$ / $(y_0 * 10^{-8})$',\n",
    "                 -max_deltay, max_deltay, valinit=default_deltay)\n",
    "# Configure our Sliders to update the plotlines.\n",
    "# The Sliders will pass their current value to the on_changed event callback\n",
    "sbounces.on_changed(lambda val: propagate_plots(state, int(val),\n",
    "                                                traj_line, poinc_ax))\n",
    "sdeltay.on_changed(lambda val: reset_plots(r0 * np.array([1, 1 + val*1e-8]),\n",
    "                                           v0, bdy, int(sbounces.val),\n",
    "                                           traj_line, poinc_ax))\n",
    "\n",
    "axlist[0].set_aspect('equal')\n",
    "axlist[0].set_ylim([-1, 1])"
   ]
  },
  {
   "cell_type": "code",
   "execution_count": 4,
   "metadata": {
    "collapsed": true
   },
   "outputs": [],
   "source": [
    "def angular_distance(s1, s2):\n",
    "    \"\"\"Return the signed distance in range [-pi, pi] from s1 to s2,\n",
    "        where s1 and s2 are angles between 0 and 2pi.\n",
    "    \"\"\"\n",
    "    d = s2 - s1\n",
    "    # want elementwise: d if |d| <= pi else sgn(d)*(|d| - 2pi) \n",
    "    absd = np.abs(d)\n",
    "    sign = np.sign(d)\n",
    "    boo = absd > np.pi  # boolean array for indexing\n",
    "    d[boo] = -sign[boo]*(absd[boo] - 2*np.pi)  \n",
    "    return d"
   ]
  },
  {
   "cell_type": "code",
   "execution_count": 5,
   "metadata": {
    "collapsed": false
   },
   "outputs": [],
   "source": [
    "bounces = 50\n",
    "\n",
    "def get_pert_deltas(dys, ref_bdy, s_arr_0, r0, v0):\n",
    "    deltas_list = []\n",
    "    for dy in dys:\n",
    "        state = init_state(r0 + dy, v0, ref_bdy)\n",
    "        propagate(state, bounces)\n",
    "        deltas_list += [angular_distance(np.array(state['s_list']), s_arr_0)]\n",
    "    return deltas_list\n",
    "\n",
    "def get_tol_deltas(tols, ref_bdy, s_arr_0, r0, v0):\n",
    "    deltas_list = []\n",
    "    ref_tol = ref_bdy.tol\n",
    "    for tol in tols:\n",
    "        ref_bdy.tol = tol\n",
    "        state = init_state(r0, v0, ref_bdy)\n",
    "        propagate(state, bounces)\n",
    "        deltas_list += [angular_distance(np.array(state['s_list']), s_arr_0)]\n",
    "    ref_bdy.tol = ref_tol\n",
    "    return deltas_list\n",
    "\n",
    "def plot_divergence(ref_bdy, r0, v0, lines):\n",
    "    reference = init_state(r0, v0, ref_bdy)\n",
    "    propagate(reference, bounces)\n",
    "    s_arr_0 = np.array(reference['s_list'])\n",
    "\n",
    "    dys = 5e-12 * np.logspace(0, 5, num=lines)\n",
    "    #np.linspace(5e-12, 5e-7, num=lines+1)[1::]\n",
    "    deltas_pert_list = get_pert_deltas(dys, ref_bdy, s_arr_0, r0, v0)\n",
    "\n",
    "    tols = dys\n",
    "    deltas_tol_list = get_tol_deltas(tols, ref_bdy, s_arr_0, r0, v0)\n",
    "\n",
    "    fig, axlist = plt.subplots(2, 1, sharex=True)\n",
    "    for deltas_pert, dy, deltas_tol, tol in zip(deltas_pert_list, dys,\n",
    "                                                deltas_tol_list, tols):\n",
    "        axlist[0].plot(deltas_pert, label='$\\Delta y_0$ = {0:.2e}'.format(dy))\n",
    "        axlist[1].plot(deltas_tol, label='Tolerance = {0:.2e}'.format(tol))\n",
    "    axlist[0].legend(loc='lower left')\n",
    "    axlist[1].legend(loc='lower left')"
   ]
  },
  {
   "cell_type": "code",
   "execution_count": 6,
   "metadata": {
    "collapsed": false
   },
   "outputs": [],
   "source": [
    "# r0 = np.array([0.6, 0.2])\n",
    "# theta = 0.1\n",
    "r0 = np.array([0.1, 0])\n",
    "theta = 1.5\n",
    "v0 = np.array([np.cos(theta), np.sin(theta)])\n",
    "custom_rf['param_rootfind'] = 'bracketing'\n",
    "for ref_bdy in (UnitCircleBoundary(**custom_rf),\n",
    "                BeanBoundary(0.16, 0.1, 2.0, 1.0, **custom_rf)):\n",
    "    plot_divergence(ref_bdy, r0, v0, 4)"
   ]
  },
  {
   "cell_type": "code",
   "execution_count": null,
   "metadata": {
    "collapsed": true
   },
   "outputs": [],
   "source": []
  }
 ],
 "metadata": {
  "anaconda-cloud": {},
  "kernelspec": {
   "display_name": "Python [conda root]",
   "language": "python",
   "name": "conda-root-py"
  },
  "language_info": {
   "codemirror_mode": {
    "name": "ipython",
    "version": 2
   },
   "file_extension": ".py",
   "mimetype": "text/x-python",
   "name": "python",
   "nbconvert_exporter": "python",
   "pygments_lexer": "ipython2",
   "version": "2.7.12"
  }
 },
 "nbformat": 4,
 "nbformat_minor": 2
}
